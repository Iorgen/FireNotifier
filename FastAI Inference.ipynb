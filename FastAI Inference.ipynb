{
 "cells": [
  {
   "cell_type": "code",
   "execution_count": 29,
   "metadata": {},
   "outputs": [
    {
     "data": {
      "text/html": [],
      "text/plain": [
       "<IPython.core.display.HTML object>"
      ]
     },
     "metadata": {},
     "output_type": "display_data"
    },
    {
     "data": {
      "text/plain": [
       "('2750',\n",
       " tensor(0),\n",
       " tensor([9.4848e-01, 3.7576e-02, 1.5270e-03, 1.1897e-02, 3.9803e-04, 1.9599e-05,\n",
       "         1.0317e-04]))"
      ]
     },
     "execution_count": 29,
     "metadata": {},
     "output_type": "execute_result"
    }
   ],
   "source": [
    "from fastai.vision import *  # import the vision module\n",
    "from fastai.metrics import error_rate  # import our evaluation metric\n",
    "import zipfile # import module to unzip the data\n",
    "import urllib.request\n",
    "import os # import module to access file paths\n",
    "from fastai.data.transforms import trace\n",
    "from fastai.vision.all import *\n",
    "from fastai.vision import *\n",
    "from fastai.imports import *\n",
    "\n",
    "from PIL import Image as PImage\n",
    "import cv2\n",
    "from fastai.vision import *\n",
    "learn = load_learner('../models/ML/2750/resnet50_mod_01.pkl')\n",
    "\n",
    "frame = cv2.imread('../models/ML/2750/test.jpg')\n",
    "frame = cv2.cvtColor(frame, cv2.COLOR_BGR2RGB)\n",
    "pil_im = PImage.fromarray(frame)\n",
    "pred = learn.predict(frame)\n",
    "pred"
   ]
  },
  {
   "cell_type": "code",
   "execution_count": 31,
   "metadata": {},
   "outputs": [
    {
     "data": {
      "text/html": [],
      "text/plain": [
       "<IPython.core.display.HTML object>"
      ]
     },
     "metadata": {},
     "output_type": "display_data"
    },
    {
     "data": {
      "text/plain": [
       "('SeaLake',\n",
       " tensor(6),\n",
       " tensor([9.7718e-04, 1.8765e-05, 1.5170e-05, 3.7466e-08, 1.0765e-08, 2.6768e-07,\n",
       "         9.9899e-01]))"
      ]
     },
     "execution_count": 31,
     "metadata": {},
     "output_type": "execute_result"
    }
   ],
   "source": [
    "frame = cv2.imread('../models/ML/2750/test2.jpg')\n",
    "frame = cv2.cvtColor(frame, cv2.COLOR_BGR2RGB)\n",
    "pil_im = PImage.fromarray(frame)\n",
    "pred = learn.predict(frame)\n",
    "pred"
   ]
  },
  {
   "cell_type": "code",
   "execution_count": 32,
   "metadata": {
    "scrolled": false
   },
   "outputs": [
    {
     "data": {
      "text/plain": [
       "['__call__',\n",
       " '__class__',\n",
       " '__delattr__',\n",
       " '__dict__',\n",
       " '__dir__',\n",
       " '__doc__',\n",
       " '__enter__',\n",
       " '__eq__',\n",
       " '__exit__',\n",
       " '__format__',\n",
       " '__ge__',\n",
       " '__getattribute__',\n",
       " '__gt__',\n",
       " '__hash__',\n",
       " '__init__',\n",
       " '__init_subclass__',\n",
       " '__le__',\n",
       " '__lt__',\n",
       " '__module__',\n",
       " '__ne__',\n",
       " '__new__',\n",
       " '__reduce__',\n",
       " '__reduce_ex__',\n",
       " '__repr__',\n",
       " '__setattr__',\n",
       " '__sizeof__',\n",
       " '__stored_args__',\n",
       " '__str__',\n",
       " '__subclasshook__',\n",
       " '__weakref__',\n",
       " '_backward',\n",
       " '_bn_bias_state',\n",
       " '_call_one',\n",
       " '_do_epoch',\n",
       " '_do_epoch_train',\n",
       " '_do_epoch_validate',\n",
       " '_do_fit',\n",
       " '_do_one_batch',\n",
       " '_end_cleanup',\n",
       " '_grab_cbs',\n",
       " '_metrics',\n",
       " '_split',\n",
       " '_step',\n",
       " '_with_events',\n",
       " 'add_cb',\n",
       " 'add_cbs',\n",
       " 'added_cbs',\n",
       " 'all_batches',\n",
       " 'cbs',\n",
       " 'create_mbar',\n",
       " 'create_opt',\n",
       " 'dl',\n",
       " 'dls',\n",
       " 'epoch',\n",
       " 'export',\n",
       " 'final_record',\n",
       " 'fine_tune',\n",
       " 'fit',\n",
       " 'fit_flat_cos',\n",
       " 'fit_one_cycle',\n",
       " 'fit_sgdr',\n",
       " 'freeze',\n",
       " 'freeze_to',\n",
       " 'gather_args',\n",
       " 'get_preds',\n",
       " 'init_args',\n",
       " 'iter',\n",
       " 'load',\n",
       " 'logger',\n",
       " 'loss',\n",
       " 'loss_func',\n",
       " 'loss_not_reduced',\n",
       " 'lr',\n",
       " 'lr_find',\n",
       " 'metrics',\n",
       " 'model',\n",
       " 'model_dir',\n",
       " 'moms',\n",
       " 'n_epoch',\n",
       " 'n_iter',\n",
       " 'no_bar',\n",
       " 'no_logging',\n",
       " 'no_mbar',\n",
       " 'one_batch',\n",
       " 'opt',\n",
       " 'opt_func',\n",
       " 'ordered_cbs',\n",
       " 'path',\n",
       " 'pct_train',\n",
       " 'pred',\n",
       " 'predict',\n",
       " 'progress',\n",
       " 'recorder',\n",
       " 'remove_cb',\n",
       " 'remove_cbs',\n",
       " 'removed_cbs',\n",
       " 'save',\n",
       " 'show_results',\n",
       " 'show_training_loop',\n",
       " 'smooth_loss',\n",
       " 'splitter',\n",
       " 'summary',\n",
       " 'to_detach',\n",
       " 'to_fp16',\n",
       " 'to_fp32',\n",
       " 'to_native_fp16',\n",
       " 'to_native_fp32',\n",
       " 'train_bn',\n",
       " 'train_eval',\n",
       " 'train_iter',\n",
       " 'training',\n",
       " 'tta',\n",
       " 'unfreeze',\n",
       " 'validate',\n",
       " 'validation_context',\n",
       " 'wd',\n",
       " 'wd_bn_bias',\n",
       " 'x',\n",
       " 'xb',\n",
       " 'y',\n",
       " 'yb']"
      ]
     },
     "execution_count": 32,
     "metadata": {},
     "output_type": "execute_result"
    }
   ],
   "source": [
    "dir(learn)"
   ]
  },
  {
   "cell_type": "code",
   "execution_count": null,
   "metadata": {},
   "outputs": [],
   "source": []
  },
  {
   "cell_type": "code",
   "execution_count": null,
   "metadata": {},
   "outputs": [],
   "source": []
  },
  {
   "cell_type": "code",
   "execution_count": null,
   "metadata": {},
   "outputs": [],
   "source": []
  }
 ],
 "metadata": {
  "kernelspec": {
   "display_name": "Python 3",
   "language": "python",
   "name": "python3"
  },
  "language_info": {
   "codemirror_mode": {
    "name": "ipython",
    "version": 3
   },
   "file_extension": ".py",
   "mimetype": "text/x-python",
   "name": "python",
   "nbconvert_exporter": "python",
   "pygments_lexer": "ipython3",
   "version": "3.7.3"
  }
 },
 "nbformat": 4,
 "nbformat_minor": 4
}
